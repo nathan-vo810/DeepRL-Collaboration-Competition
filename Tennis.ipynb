{
 "cells": [
  {
   "cell_type": "markdown",
   "metadata": {},
   "source": [
    "# Collaboration and Competition\n",
    "\n",
    "---\n",
    "\n",
    "In this notebook, we will train two agents to control rackets to bounce a ball over a net in a virtual environment (Tennis environment) for as many time steps as possible. \n",
    "\n",
    "### 1. Start the Environment\n",
    "\n",
    "We begin by importing the necessary packages.  If the code cell below returns an error, please revisit the project instructions to double-check that you have installed [Unity ML-Agents](https://github.com/Unity-Technologies/ml-agents/blob/master/docs/Installation.md) and [NumPy](http://www.numpy.org/)."
   ]
  },
  {
   "cell_type": "code",
   "execution_count": 1,
   "metadata": {
    "collapsed": true
   },
   "outputs": [],
   "source": [
    "from unityagents import UnityEnvironment\n",
    "import numpy as np"
   ]
  },
  {
   "cell_type": "markdown",
   "metadata": {},
   "source": [
    "Next, we will start the environment!  **_Before running the code cell below_**, change the `file_name` parameter to match the location of the Unity environment that you downloaded.\n",
    "\n",
    "- **Mac**: `\"path/to/Tennis.app\"`\n",
    "- **Windows** (x86): `\"path/to/Tennis_Windows_x86/Tennis.exe\"`\n",
    "- **Windows** (x86_64): `\"path/to/Tennis_Windows_x86_64/Tennis.exe\"`\n",
    "- **Linux** (x86): `\"path/to/Tennis_Linux/Tennis.x86\"`\n",
    "- **Linux** (x86_64): `\"path/to/Tennis_Linux/Tennis.x86_64\"`\n",
    "- **Linux** (x86, headless): `\"path/to/Tennis_Linux_NoVis/Tennis.x86\"`\n",
    "- **Linux** (x86_64, headless): `\"path/to/Tennis_Linux_NoVis/Tennis.x86_64\"`\n",
    "\n",
    "For instance, if you are using a Mac, then you downloaded `Tennis.app`.  If this file is in the same folder as the notebook, then the line below should appear as follows:\n",
    "```\n",
    "env = UnityEnvironment(file_name=\"Tennis.app\")\n",
    "```"
   ]
  },
  {
   "cell_type": "code",
   "execution_count": 2,
   "metadata": {
    "collapsed": false
   },
   "outputs": [
    {
     "name": "stderr",
     "output_type": "stream",
     "text": [
      "INFO:unityagents:\n",
      "'Academy' started successfully!\n",
      "Unity Academy name: Academy\n",
      "        Number of Brains: 1\n",
      "        Number of External Brains : 1\n",
      "        Lesson number : 0\n",
      "        Reset Parameters :\n",
      "\t\t\n",
      "Unity brain name: TennisBrain\n",
      "        Number of Visual Observations (per agent): 0\n",
      "        Vector Observation space type: continuous\n",
      "        Vector Observation space size (per agent): 8\n",
      "        Number of stacked Vector Observation: 3\n",
      "        Vector Action space type: continuous\n",
      "        Vector Action space size (per agent): 2\n",
      "        Vector Action descriptions: , \n"
     ]
    }
   ],
   "source": [
    "env = UnityEnvironment(file_name=\"/Users/NhatAnh/Documents/ML/DRL/DeepRL-Collaboration-Competition/Tennis.app\")"
   ]
  },
  {
   "cell_type": "markdown",
   "metadata": {},
   "source": [
    "Environments contain **_brains_** which are responsible for deciding the actions of their associated agents. Here we check for the first brain available, and set it as the default brain we will be controlling from Python."
   ]
  },
  {
   "cell_type": "code",
   "execution_count": 3,
   "metadata": {
    "collapsed": true
   },
   "outputs": [],
   "source": [
    "# get the default brain\n",
    "brain_name = env.brain_names[0]\n",
    "brain = env.brains[brain_name]"
   ]
  },
  {
   "cell_type": "markdown",
   "metadata": {},
   "source": [
    "### 2. Examine the State and Action Spaces\n",
    "\n",
    "Run the code cell below to print some information about the environment."
   ]
  },
  {
   "cell_type": "code",
   "execution_count": 4,
   "metadata": {
    "collapsed": false,
    "scrolled": true
   },
   "outputs": [
    {
     "name": "stdout",
     "output_type": "stream",
     "text": [
      "Number of agents: 2\n",
      "Size of each action: 2\n",
      "There are 2 agents. Each observes a state with length: 24\n",
      "The state for the first agent looks like: [ 0.          0.          0.          0.          0.          0.          0.\n",
      "  0.          0.          0.          0.          0.          0.          0.\n",
      "  0.          0.         -6.65278625 -1.5        -0.          0.\n",
      "  6.83172083  6.         -0.          0.        ]\n"
     ]
    }
   ],
   "source": [
    "# reset the environment\n",
    "env_info = env.reset(train_mode=True)[brain_name]\n",
    "\n",
    "# number of agents \n",
    "num_agents = len(env_info.agents)\n",
    "print('Number of agents:', num_agents)\n",
    "\n",
    "# size of each action\n",
    "action_size = brain.vector_action_space_size\n",
    "print('Size of each action:', action_size)\n",
    "\n",
    "# examine the state space \n",
    "states = env_info.vector_observations\n",
    "state_size = states.shape[1]\n",
    "print('There are {} agents. Each observes a state with length: {}'.format(states.shape[0], state_size))\n",
    "print('The state for the first agent looks like:', states[0])"
   ]
  },
  {
   "cell_type": "markdown",
   "metadata": {},
   "source": [
    "### 3. Train DDPG"
   ]
  },
  {
   "cell_type": "code",
   "execution_count": 5,
   "metadata": {
    "collapsed": true
   },
   "outputs": [],
   "source": [
    "import sys\n",
    "import os\n",
    "import torch\n",
    "from collections import deque\n",
    "import matplotlib.pyplot as plt\n",
    "%matplotlib inline\n",
    "\n",
    "sys.path.insert(0, os.path.abspath(os.path.join(os.path.dirname(__name__), '..')))\n",
    "\n",
    "from ddpg.ddpg_agent import DDPGAgent"
   ]
  },
  {
   "cell_type": "code",
   "execution_count": 6,
   "metadata": {
    "collapsed": true
   },
   "outputs": [],
   "source": [
    "# Score that the agents need to achieve\n",
    "BENCHMARK_SCORE = 0.5"
   ]
  },
  {
   "cell_type": "code",
   "execution_count": 7,
   "metadata": {
    "collapsed": true
   },
   "outputs": [],
   "source": [
    "# Create 2 Agents\n",
    "agent_0 = DDPGAgent(state_size, action_size, num_agents=1, random_seed=0)\n",
    "agent_1 = DDPGAgent(state_size, action_size, num_agents=1, random_seed=0)"
   ]
  },
  {
   "cell_type": "code",
   "execution_count": 8,
   "metadata": {
    "collapsed": true
   },
   "outputs": [],
   "source": [
    "def train_ddpg(n_episodes=5000, max_t=1000):\n",
    "    \"\"\"Train Agent with DDPG\n",
    "    \n",
    "    Params\n",
    "    ======\n",
    "        n_episodes (int): maximum number of training episodes\n",
    "        max_t (int): maximum number of timesteps per episode\n",
    "        eps_start (float): starting value of epsilon, for epsilon-greedy action selection\n",
    "        eps_end (float): minimum value of epsilon\n",
    "        eps_decay (float): linear factor (per episode) for decreasing epsilon\n",
    "    \"\"\"\n",
    "    scores_window = deque(maxlen=100)\n",
    "    scores = []\n",
    "    \n",
    "    for i_episode in range(1, n_episodes + 1):\n",
    "        env_info = env.reset(train_mode=True)[brain_name]\n",
    "        states = np.reshape(env_info.vector_observations, (1, 48))\n",
    "        \n",
    "        agent_0.reset()\n",
    "        agent_1.reset()\n",
    "        episode_scores = np.zeros(num_agents)\n",
    "        \n",
    "        for t in range(max_t):\n",
    "            action_0 = agent_0.act(states)\n",
    "            action_1 = agent_1.act(states)\n",
    "            actions = np.concatenate((action_0, action_1), axis=0).flatten()\n",
    "            \n",
    "            env_info = env.step(actions)[brain_name]\n",
    "            \n",
    "            next_states = np.reshape(env_info.vector_observations, (1,48))\n",
    "            rewards = env_info.rewards\n",
    "            dones = env_info.local_done\n",
    "            \n",
    "            agent_0.step(states, actions, rewards[0], next_states, dones[0], 0)\n",
    "            agent_1.step(states, actions, rewards[1], next_states, dones[1], 1)\n",
    "\n",
    "            states = next_states\n",
    "            episode_scores += rewards\n",
    "            \n",
    "            if np.any(dones):\n",
    "                break\n",
    "            \n",
    "        score = np.max(episode_scores)\n",
    "        \n",
    "        scores_window.append(score)\n",
    "        scores.append(score)\n",
    "        \n",
    "        print('\\rEpisode {}\\tAverage Score: {:.2f}\\tScore: {:.2f}'.format(i_episode, np.mean(scores_window), score), end=\"\")\n",
    "\n",
    "        if i_episode % 50 == 0:\n",
    "            print('\\rEpisode {}\\tAverage Score: {:.2f}'.format(i_episode, np.mean(scores_window)))\n",
    "            \n",
    "        torch.save(agent_0.actor_local.state_dict(), 'agent_0_actor.pth')\n",
    "        torch.save(agent_0.critic_local.state_dict(), 'agent_0_critic.pth')\n",
    "        torch.save(agent_1.actor_local.state_dict(), 'agent_1_actor.pth')\n",
    "        torch.save(agent_1.critic_local.state_dict(), 'agent_1_critic.pth')\n",
    "        \n",
    "        \n",
    "        if np.mean(scores_window) >= BENCHMARK_SCORE:\n",
    "            print('\\nEnvironment solved in {:d} episodes!\\tAverage Score: {:.2f}'.format(i_episode, np.mean(scores_window)))\n",
    "            break\n",
    "            \n",
    "    return scores"
   ]
  },
  {
   "cell_type": "code",
   "execution_count": 9,
   "metadata": {
    "collapsed": true
   },
   "outputs": [],
   "source": [
    "def plot(scores):\n",
    "    fig = plt.figure()\n",
    "    ax = fig.add_subplot(111)\n",
    "    plt.plot(np.arange(1, len(scores)+1), scores)\n",
    "    plt.ylabel('Score')\n",
    "    plt.xlabel('Episode #')\n",
    "    plt.show()"
   ]
  },
  {
   "cell_type": "code",
   "execution_count": 10,
   "metadata": {
    "collapsed": true
   },
   "outputs": [],
   "source": [
    "# Load checkpoint\n",
    "def load_weight():\n",
    "    if os.path.isfile('agent_0_actor.pth') and os.path.isfile('agent_0_critic.pth'):\n",
    "        agent_0.actor_local.load_state_dict(torch.load('agent_0_actor.pth'))\n",
    "        agent_0.critic_local.load_state_dict(torch.load('agent_0_critic.pth'))\n",
    "        print(\"Weight loaded for agent 0.\")\n",
    "    if os.path.isfile('agent_1_actor.pth') and os.path.isfile('agent_1_critic.pth'):\n",
    "        agent_1.actor_local.load_state_dict(torch.load('agent_1_actor.pth'))\n",
    "        agent_1.critic_local.load_state_dict(torch.load('agent_1_critic.pth'))\n",
    "        print(\"Weight loaded for agent 1.\")"
   ]
  },
  {
   "cell_type": "code",
   "execution_count": 11,
   "metadata": {
    "collapsed": false
   },
   "outputs": [
    {
     "name": "stdout",
     "output_type": "stream",
     "text": [
      "Episode 50\tAverage Score: 0.00\tScore: 0.00\n",
      "Episode 100\tAverage Score: 0.00\tScore: 0.00\n",
      "Episode 150\tAverage Score: 0.00\tScore: 0.10\n",
      "Episode 200\tAverage Score: 0.02\tScore: 0.00\n",
      "Episode 250\tAverage Score: 0.03\tScore: 0.10\n",
      "Episode 300\tAverage Score: 0.03\tScore: 0.00\n",
      "Episode 350\tAverage Score: 0.04\tScore: 0.10\n",
      "Episode 400\tAverage Score: 0.07\tScore: 0.00\n",
      "Episode 450\tAverage Score: 0.06\tScore: 0.00\n",
      "Episode 500\tAverage Score: 0.06\tScore: 0.10\n",
      "Episode 550\tAverage Score: 0.08\tScore: 0.10\n",
      "Episode 600\tAverage Score: 0.11\tScore: 0.10\n",
      "Episode 650\tAverage Score: 0.12\tScore: 0.20\n",
      "Episode 700\tAverage Score: 0.11\tScore: 0.09\n",
      "Episode 750\tAverage Score: 0.12\tScore: 0.09\n",
      "Episode 800\tAverage Score: 0.17\tScore: 0.10\n",
      "Episode 850\tAverage Score: 0.20\tScore: 0.59\n",
      "Episode 900\tAverage Score: 0.21\tScore: 0.50\n",
      "Episode 950\tAverage Score: 0.21\tScore: 0.10\n",
      "Episode 1000\tAverage Score: 0.20\tScore: 0.00\n",
      "Episode 1050\tAverage Score: 0.18\tScore: 0.10\n",
      "Episode 1100\tAverage Score: 0.22\tScore: 0.10\n",
      "Episode 1150\tAverage Score: 0.39\tScore: 1.20\n",
      "Episode 1200\tAverage Score: 0.45\tScore: 0.10\n",
      "Episode 1228\tAverage Score: 0.50\tScore: 1.80\n",
      "Environment solved in 1228 episodes!\tAverage Score: 0.50\n"
     ]
    }
   ],
   "source": [
    "scores = train_ddpg()"
   ]
  },
  {
   "cell_type": "code",
   "execution_count": 12,
   "metadata": {
    "collapsed": false
   },
   "outputs": [
    {
     "data": {
      "image/png": "[encoded data removed]",
      "text/plain": [
       "<matplotlib.figure.Figure at 0x7f3dd48aa6d8>"
      ]
     },
     "metadata": {
      "needs_background": "light"
     },
     "output_type": "display_data"
    }
   ],
   "source": [
    "plot(scores)"
   ]
  }
 ],
 "metadata": {
  "kernelspec": {
   "display_name": "Python 3",
   "language": "python",
   "name": "python3"
  },
  "language_info": {
   "codemirror_mode": {
    "name": "ipython",
    "version": 3
   },
   "file_extension": ".py",
   "mimetype": "text/x-python",
   "name": "python",
   "nbconvert_exporter": "python",
   "pygments_lexer": "ipython3",
   "version": "3.6.2"
  }
 },
 "nbformat": 4,
 "nbformat_minor": 2
}
